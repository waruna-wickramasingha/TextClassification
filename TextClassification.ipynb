{
 "cells": [
  {
   "cell_type": "code",
   "execution_count": 2,
   "metadata": {},
   "outputs": [],
   "source": [
    "from sklearn.datasets import load_files\n",
    "\n",
    "from sklearn.feature_extraction.text import TfidfVectorizer\n",
    "from sklearn.feature_extraction.text import CountVectorizer\n",
    "from sklearn.feature_extraction.text import TfidfTransformer\n",
    "from sklearn.feature_extraction.text import HashingVectorizer\n",
    "\n",
    "from sklearn.naive_bayes import MultinomialNB\n",
    "from sklearn.svm import LinearSVC\n",
    "from sklearn.neighbors.nearest_centroid import NearestCentroid\n",
    "\n",
    "from sklearn.pipeline import Pipeline\n",
    "from sklearn.model_selection import cross_validate"
   ]
  },
  {
   "cell_type": "markdown",
   "metadata": {},
   "source": [
    "### Loading 20_newsgroup files\n",
    "\n",
    "Load the given text files with categories as subfolder names. The folder names are used as supervised signal label names."
   ]
  },
  {
   "cell_type": "code",
   "execution_count": null,
   "metadata": {},
   "outputs": [],
   "source": [
    "full_dataSet = load_files(container_path=\"20_newsgroup\", shuffle=True, random_state=10, encoding='Latin-1')"
   ]
  },
  {
   "cell_type": "markdown",
   "metadata": {},
   "source": [
    "### In order to evaluate below metrics are calculated on the corss validation as scores"
   ]
  },
  {
   "cell_type": "code",
   "execution_count": 2,
   "metadata": {},
   "outputs": [],
   "source": [
    "scoring = ['precision_macro', 'recall_macro', 'accuracy', 'f1_macro']"
   ]
  },
  {
   "cell_type": "markdown",
   "metadata": {},
   "source": [
    "### Classifier 1"
   ]
  },
  {
   "cell_type": "code",
   "execution_count": 22,
   "metadata": {},
   "outputs": [],
   "source": [
    "text_clf1 = Pipeline( [ ('countVect', CountVectorizer()), ('tfidf', TfidfTransformer(use_idf=True)), ('NBclf', MultinomialNB()) ] )\n",
    "scores_clf1 = cross_validate(text_clf1, full_dataSet.data, full_dataSet.target, cv=10, scoring=scoring, return_train_score=True)"
   ]
  },
  {
   "cell_type": "code",
   "execution_count": 23,
   "metadata": {},
   "outputs": [
    {
     "name": "stdout",
     "output_type": "stream",
     "text": [
      "train_accuracy= 0.9418690535913855\n",
      "test_accuracy= 0.8871832416208104\n",
      "train_f1_macro= 0.9408203122437462\n",
      "test_f1_macro= 0.8852408402480488\n",
      "train_precision_macro= 0.9416763040952443\n",
      "test_precision_macro= 0.8881976237769103\n",
      "train_recall_macro= 0.9418776291755329\n",
      "test_recall_macro= 0.8872\n",
      "fit_time= 9.35672061443329\n",
      "score_time= 3.4392364025115967\n"
     ]
    }
   ],
   "source": [
    "print(\"train_accuracy=\", scores_clf1['train_accuracy'].mean())\n",
    "print(\"test_accuracy=\", scores_clf1['test_accuracy'].mean())\n",
    "\n",
    "print(\"train_f1_macro=\", scores_clf1['train_f1_macro'].mean())\n",
    "print(\"test_f1_macro=\", scores_clf1['test_f1_macro'].mean())\n",
    "\n",
    "print(\"train_precision_macro=\", scores_clf1['train_precision_macro'].mean())\n",
    "print(\"test_precision_macro=\", scores_clf1['test_precision_macro'].mean())\n",
    "\n",
    "print(\"train_recall_macro=\", scores_clf1['train_recall_macro'].mean())\n",
    "print(\"test_recall_macro=\", scores_clf1['test_recall_macro'].mean())\n",
    "\n",
    "print(\"fit_time=\", scores_clf1['fit_time'].mean())\n",
    "print(\"score_time=\", scores_clf1['score_time'].mean())"
   ]
  },
  {
   "cell_type": "markdown",
   "metadata": {},
   "source": [
    "### Classifier 2"
   ]
  },
  {
   "cell_type": "code",
   "execution_count": 24,
   "metadata": {},
   "outputs": [],
   "source": [
    "text_clf2 = Pipeline( [ ('countVect', CountVectorizer()), ('NBclf', MultinomialNB()) ] )\n",
    "scores_clf2 = cross_validate(text_clf2, full_dataSet.data, full_dataSet.target, cv=10, scoring=scoring, return_train_score=True)"
   ]
  },
  {
   "cell_type": "code",
   "execution_count": 25,
   "metadata": {},
   "outputs": [
    {
     "name": "stdout",
     "output_type": "stream",
     "text": [
      "train_accuracy= 0.9397187504605832\n",
      "test_accuracy= 0.8743814407203601\n",
      "train_f1_macro= 0.9375412315230023\n",
      "test_f1_macro= 0.8693842667829548\n",
      "train_precision_macro= 0.9419030694676357\n",
      "test_precision_macro= 0.8820766485560754\n",
      "train_recall_macro= 0.9397276291755328\n",
      "test_recall_macro= 0.8744\n",
      "fit_time= 8.606685876846313\n",
      "score_time= 3.5033013105392454\n"
     ]
    }
   ],
   "source": [
    "print(\"train_accuracy=\", scores_clf2['train_accuracy'].mean())\n",
    "print(\"test_accuracy=\", scores_clf2['test_accuracy'].mean())\n",
    "\n",
    "print(\"train_f1_macro=\", scores_clf2['train_f1_macro'].mean())\n",
    "print(\"test_f1_macro=\", scores_clf2['test_f1_macro'].mean())\n",
    "\n",
    "print(\"train_precision_macro=\", scores_clf2['train_precision_macro'].mean())\n",
    "print(\"test_precision_macro=\", scores_clf2['test_precision_macro'].mean())\n",
    "\n",
    "print(\"train_recall_macro=\", scores_clf2['train_recall_macro'].mean())\n",
    "print(\"test_recall_macro=\", scores_clf2['test_recall_macro'].mean())\n",
    "\n",
    "print(\"fit_time=\", scores_clf2['fit_time'].mean())\n",
    "print(\"score_time=\", scores_clf2['score_time'].mean())"
   ]
  },
  {
   "cell_type": "markdown",
   "metadata": {},
   "source": [
    "### Classifier 3"
   ]
  },
  {
   "cell_type": "code",
   "execution_count": 28,
   "metadata": {},
   "outputs": [],
   "source": [
    "text_clf3 = Pipeline( [ ('tfidfvec', TfidfVectorizer(analyzer='word')), ('NBclf', MultinomialNB()) ] )\n",
    "scores_clf3 = cross_validate(text_clf3, full_dataSet.data, full_dataSet.target, cv=10, scoring=scoring, return_train_score=True)"
   ]
  },
  {
   "cell_type": "code",
   "execution_count": 29,
   "metadata": {},
   "outputs": [
    {
     "name": "stdout",
     "output_type": "stream",
     "text": [
      "train_accuracy= 0.9418690535913855\n",
      "test_accuracy= 0.8871832416208104\n",
      "train_f1_macro= 0.9408203122437462\n",
      "test_f1_macro= 0.8852408402480488\n",
      "train_precision_macro= 0.9416763040952443\n",
      "test_precision_macro= 0.8881976237769103\n",
      "train_recall_macro= 0.9418776291755329\n",
      "test_recall_macro= 0.8872\n",
      "fit_time= 8.81294276714325\n",
      "score_time= 3.5501816272735596\n"
     ]
    }
   ],
   "source": [
    "print(\"train_accuracy=\", scores_clf3['train_accuracy'].mean())\n",
    "print(\"test_accuracy=\", scores_clf3['test_accuracy'].mean())\n",
    "\n",
    "print(\"train_f1_macro=\", scores_clf3['train_f1_macro'].mean())\n",
    "print(\"test_f1_macro=\", scores_clf3['test_f1_macro'].mean())\n",
    "\n",
    "print(\"train_precision_macro=\", scores_clf3['train_precision_macro'].mean())\n",
    "print(\"test_precision_macro=\", scores_clf3['test_precision_macro'].mean())\n",
    "\n",
    "print(\"train_recall_macro=\", scores_clf3['train_recall_macro'].mean())\n",
    "print(\"test_recall_macro=\", scores_clf3['test_recall_macro'].mean())\n",
    "\n",
    "print(\"fit_time=\", scores_clf3['fit_time'].mean())\n",
    "print(\"score_time=\", scores_clf3['score_time'].mean())"
   ]
  },
  {
   "cell_type": "markdown",
   "metadata": {},
   "source": [
    "### Classifier 4"
   ]
  },
  {
   "cell_type": "code",
   "execution_count": 30,
   "metadata": {},
   "outputs": [],
   "source": [
    "text_clf4 = Pipeline( [ ('tfidfVect', TfidfVectorizer()), ('linearSvc', LinearSVC()) ] )\n",
    "scores_clf4 = cross_validate(text_clf4, full_dataSet.data, full_dataSet.target, cv=10, scoring=scoring, return_train_score=True)"
   ]
  },
  {
   "cell_type": "code",
   "execution_count": 31,
   "metadata": {},
   "outputs": [
    {
     "name": "stdout",
     "output_type": "stream",
     "text": [
      "train_accuracy= 0.9759352784550904\n",
      "test_accuracy= 0.9370403701850926\n",
      "train_f1_macro= 0.9759836515805113\n",
      "test_f1_macro= 0.9369180772790484\n",
      "train_precision_macro= 0.9764299582512532\n",
      "test_precision_macro= 0.9371976738693663\n",
      "train_recall_macro= 0.9759388888888887\n",
      "test_recall_macro= 0.937049494949495\n",
      "fit_time= 16.019557404518128\n",
      "score_time= 3.7236266136169434\n"
     ]
    }
   ],
   "source": [
    "print(\"train_accuracy=\", scores_clf4['train_accuracy'].mean())\n",
    "print(\"test_accuracy=\", scores_clf4['test_accuracy'].mean())\n",
    "\n",
    "print(\"train_f1_macro=\", scores_clf4['train_f1_macro'].mean())\n",
    "print(\"test_f1_macro=\", scores_clf4['test_f1_macro'].mean())\n",
    "\n",
    "print(\"train_precision_macro=\", scores_clf4['train_precision_macro'].mean())\n",
    "print(\"test_precision_macro=\", scores_clf4['test_precision_macro'].mean())\n",
    "\n",
    "print(\"train_recall_macro=\", scores_clf4['train_recall_macro'].mean())\n",
    "print(\"test_recall_macro=\", scores_clf4['test_recall_macro'].mean())\n",
    "\n",
    "print(\"fit_time=\", scores_clf4['fit_time'].mean())\n",
    "print(\"score_time=\", scores_clf4['score_time'].mean())"
   ]
  },
  {
   "cell_type": "markdown",
   "metadata": {},
   "source": [
    "### Classifier 5"
   ]
  },
  {
   "cell_type": "code",
   "execution_count": 9,
   "metadata": {},
   "outputs": [],
   "source": [
    "text_clf5 = Pipeline( [ ('tfidfvec', TfidfVectorizer(analyzer='char')), ('NBclf', MultinomialNB()) ] )\n",
    "scores_clf5 = cross_validate(text_clf5, full_dataSet.data, full_dataSet.target, cv=10, scoring=scoring, return_train_score=True)"
   ]
  },
  {
   "cell_type": "code",
   "execution_count": 32,
   "metadata": {},
   "outputs": [
    {
     "name": "stdout",
     "output_type": "stream",
     "text": [
      "train_accuracy= 0.19597383601666202\n",
      "test_accuracy= 0.18897838919459728\n",
      "train_f1_macro= 0.16936532680263378\n",
      "test_f1_macro= 0.16160248825482093\n",
      "train_precision_macro= 0.21635136459945636\n",
      "test_precision_macro= 0.20493725417735206\n",
      "train_recall_macro= 0.19604833922197146\n",
      "test_recall_macro= 0.18905656565656567\n",
      "fit_time= 11.989854454994202\n",
      "score_time= 5.331757664680481\n"
     ]
    }
   ],
   "source": [
    "print(\"train_accuracy=\", scores_clf5['train_accuracy'].mean())\n",
    "print(\"test_accuracy=\", scores_clf5['test_accuracy'].mean())\n",
    "\n",
    "print(\"train_f1_macro=\", scores_clf5['train_f1_macro'].mean())\n",
    "print(\"test_f1_macro=\", scores_clf5['test_f1_macro'].mean())\n",
    "\n",
    "print(\"train_precision_macro=\", scores_clf5['train_precision_macro'].mean())\n",
    "print(\"test_precision_macro=\", scores_clf5['test_precision_macro'].mean())\n",
    "\n",
    "print(\"train_recall_macro=\", scores_clf5['train_recall_macro'].mean())\n",
    "print(\"test_recall_macro=\", scores_clf5['test_recall_macro'].mean())\n",
    "\n",
    "print(\"fit_time=\", scores_clf5['fit_time'].mean())\n",
    "print(\"score_time=\", scores_clf5['score_time'].mean())"
   ]
  },
  {
   "cell_type": "markdown",
   "metadata": {},
   "source": [
    "### Classifier 6"
   ]
  },
  {
   "cell_type": "code",
   "execution_count": 34,
   "metadata": {},
   "outputs": [],
   "source": [
    "text_clf6 = Pipeline( [ ('hashing', HashingVectorizer()), ('linearSvc', LinearSVC()) ] )\n",
    "scores_clf6 = cross_validate(text_clf6, full_dataSet.data, full_dataSet.target, cv=10, scoring=scoring, return_train_score=True)"
   ]
  },
  {
   "cell_type": "code",
   "execution_count": 35,
   "metadata": {},
   "outputs": [
    {
     "name": "stdout",
     "output_type": "stream",
     "text": [
      "train_accuracy= 0.9730848527723468\n",
      "test_accuracy= 0.9446918459229614\n",
      "train_f1_macro= 0.9731729550177823\n",
      "test_f1_macro= 0.9446844920405553\n",
      "train_precision_macro= 0.9739308867445523\n",
      "test_precision_macro= 0.9452997958651478\n",
      "train_recall_macro= 0.973088888888889\n",
      "test_recall_macro= 0.9446989898989899\n",
      "fit_time= 19.661931252479555\n",
      "score_time= 3.9251967668533325\n"
     ]
    }
   ],
   "source": [
    "print(\"train_accuracy=\", scores_clf6['train_accuracy'].mean())\n",
    "print(\"test_accuracy=\", scores_clf6['test_accuracy'].mean())\n",
    "\n",
    "print(\"train_f1_macro=\", scores_clf6['train_f1_macro'].mean())\n",
    "print(\"test_f1_macro=\", scores_clf6['test_f1_macro'].mean())\n",
    "\n",
    "print(\"train_precision_macro=\", scores_clf6['train_precision_macro'].mean())\n",
    "print(\"test_precision_macro=\", scores_clf6['test_precision_macro'].mean())\n",
    "\n",
    "print(\"train_recall_macro=\", scores_clf6['train_recall_macro'].mean())\n",
    "print(\"test_recall_macro=\", scores_clf6['test_recall_macro'].mean())\n",
    "\n",
    "print(\"fit_time=\", scores_clf6['fit_time'].mean())\n",
    "print(\"score_time=\", scores_clf6['score_time'].mean())"
   ]
  },
  {
   "cell_type": "markdown",
   "metadata": {},
   "source": [
    "### Classifier 7"
   ]
  },
  {
   "cell_type": "code",
   "execution_count": 36,
   "metadata": {},
   "outputs": [],
   "source": [
    "text_clf7 = Pipeline( [ ('hashvec', HashingVectorizer()), ('centroid', NearestCentroid(metric='euclidean')) ] )\n",
    "scores_clf7 = cross_validate(text_clf7, full_dataSet.data, full_dataSet.target, cv=10, scoring=scoring, return_train_score=True)"
   ]
  },
  {
   "cell_type": "code",
   "execution_count": 37,
   "metadata": {},
   "outputs": [
    {
     "name": "stdout",
     "output_type": "stream",
     "text": [
      "train_accuracy= 0.5687019832292554\n",
      "test_accuracy= 0.5537827163581792\n",
      "train_f1_macro= 0.5863026697447025\n",
      "test_f1_macro= 0.5702005176723838\n",
      "train_precision_macro= 0.6552573055248448\n",
      "test_precision_macro= 0.6410146078654272\n",
      "train_recall_macro= 0.5687521961351003\n",
      "test_recall_macro= 0.5538363636363636\n",
      "fit_time= 8.434804129600526\n",
      "score_time= 5.5612159967422485\n"
     ]
    }
   ],
   "source": [
    "print(\"train_accuracy=\", scores_clf7['train_accuracy'].mean())\n",
    "print(\"test_accuracy=\", scores_clf7['test_accuracy'].mean())\n",
    "\n",
    "print(\"train_f1_macro=\", scores_clf7['train_f1_macro'].mean())\n",
    "print(\"test_f1_macro=\", scores_clf7['test_f1_macro'].mean())\n",
    "\n",
    "print(\"train_precision_macro=\", scores_clf7['train_precision_macro'].mean())\n",
    "print(\"test_precision_macro=\", scores_clf7['test_precision_macro'].mean())\n",
    "\n",
    "print(\"train_recall_macro=\", scores_clf7['train_recall_macro'].mean())\n",
    "print(\"test_recall_macro=\", scores_clf7['test_recall_macro'].mean())\n",
    "\n",
    "print(\"fit_time=\", scores_clf7['fit_time'].mean())\n",
    "print(\"score_time=\", scores_clf7['score_time'].mean())"
   ]
  },
  {
   "cell_type": "code",
   "execution_count": null,
   "metadata": {},
   "outputs": [],
   "source": []
  }
 ],
 "metadata": {
  "kernelspec": {
   "display_name": "Python 3",
   "language": "python",
   "name": "python3"
  },
  "language_info": {
   "codemirror_mode": {
    "name": "ipython",
    "version": 3
   },
   "file_extension": ".py",
   "mimetype": "text/x-python",
   "name": "python",
   "nbconvert_exporter": "python",
   "pygments_lexer": "ipython3",
   "version": "3.7.1"
  }
 },
 "nbformat": 4,
 "nbformat_minor": 2
}
